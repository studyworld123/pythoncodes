{
 "cells": [
  {
   "cell_type": "code",
   "execution_count": 3,
   "id": "eb839a58",
   "metadata": {},
   "outputs": [
    {
     "name": "stdout",
     "output_type": "stream",
     "text": [
      "139814858853744\n",
      "139814858853776\n",
      "139814858853808\n"
     ]
    }
   ],
   "source": [
    "a=[101,102,103]\n",
    "for i in range(3):\n",
    "    print(id(a[i]))"
   ]
  },
  {
   "cell_type": "code",
   "execution_count": 4,
   "id": "29fc9629",
   "metadata": {},
   "outputs": [
    {
     "name": "stdout",
     "output_type": "stream",
     "text": [
      "1\n",
      "2\n",
      "3\n",
      "4\n",
      "5\n",
      "6\n",
      "7\n",
      "8\n",
      "9\n",
      "10\n"
     ]
    }
   ],
   "source": [
    "n=1\n",
    "while(n<11):\n",
    "    print(n)\n",
    "    n=n+1"
   ]
  },
  {
   "cell_type": "code",
   "execution_count": 42,
   "id": "ac73478a",
   "metadata": {},
   "outputs": [
    {
     "name": "stdout",
     "output_type": "stream",
     "text": [
      "Enter total number of balls:300\n",
      "Enter total number of runs:375\n",
      "Enter  number of runs:78\n",
      "Enter  number of balls bowled:45\n",
      "Total overs: 50.0\n",
      "overs_finished 7.3\n",
      "Current rate 10.684931506849315\n",
      "Total runs 7.5\n"
     ]
    }
   ],
   "source": [
    "tballs=int(input(\"Enter total number of balls:\"))\n",
    "truns=int(input(\"Enter total number of runs:\"))\n",
    "Runs=int(input(\"Enter  number of runs:\"))\n",
    "Balls=int(input(\"Enter  number of balls bowled:\"))\n",
    "print(\"Total overs:\",tballs/6)\n",
    "overs=Balls//6\n",
    "h=Balls%6\n",
    "h=h*.1\n",
    "#overs_finished=str(Balls//6)+\".\"+str(Balls%6)\n",
    "overs_finished=overs+h\n",
    "print(\"overs_finished\",overs_finished)\n",
    "print(\"Current rate\",Runs/(overs_finished))\n",
    "print(\"Total runs\",truns/((tballs)/6))"
   ]
  },
  {
   "cell_type": "code",
   "execution_count": 24,
   "id": "6780ddef",
   "metadata": {},
   "outputs": [
    {
     "name": "stdout",
     "output_type": "stream",
     "text": [
      "length of the wall8\n",
      "breadth of the wall8\n",
      "length of the 1st paint3\n",
      "width of the 1st paint2\n",
      "length of the 2nd paint4\n",
      "width of the 2nd paint4\n",
      "Raj can fix both the painting\n"
     ]
    }
   ],
   "source": [
    "a=int(input(\"length of the wall\"))\n",
    "b=int(input(\"breadth of the wall\"))\n",
    "c=int(input(\"length of the 1st paint\"))\n",
    "d=int(input(\"width of the 1st paint\"))\n",
    "e=int(input(\"length of the 2nd paint\"))\n",
    "f=int(input(\"width of the 2nd paint\"))\n",
    "if(a>=c) &(a>=c):\n",
    "    if(b>=d) & (b>=f):\n",
    "        print(\"Raj can fix both the painting\")\n",
    "else:\n",
    "    print(\"Raj cant fix the both paintings\")"
   ]
  },
  {
   "cell_type": "code",
   "execution_count": 35,
   "id": "e88e46c6",
   "metadata": {},
   "outputs": [
    {
     "name": "stdout",
     "output_type": "stream",
     "text": [
      "99\n"
     ]
    }
   ],
   "source": [
    "a=[1,7,23,64,99]\n",
    "m=a[0]\n",
    "for i in a:\n",
    "    if i>m:\n",
    "        m=i\n",
    "print(m)"
   ]
  },
  {
   "cell_type": "code",
   "execution_count": 37,
   "id": "4a83da62",
   "metadata": {},
   "outputs": [
    {
     "name": "stdout",
     "output_type": "stream",
     "text": [
      "enter the name1:nikhil\n",
      "enter the name2:wife\n",
      "nikhilwife\n",
      "enter num1:5\n",
      "enter num2:9\n",
      "14\n"
     ]
    }
   ],
   "source": [
    "def add(a,b):\n",
    "    c=a+b\n",
    "    print(c)\n",
    "a=input(\"enter the name1:\")\n",
    "b=input(\"enter the name2:\")\n",
    "add(a,b)\n",
    "a=int(input(\"enter num1:\"))\n",
    "b=int(input(\"enter num2:\"))\n",
    "add(a,b)"
   ]
  },
  {
   "cell_type": "code",
   "execution_count": null,
   "id": "7cf0df33",
   "metadata": {},
   "outputs": [],
   "source": []
  }
 ],
 "metadata": {
  "kernelspec": {
   "display_name": "Python 3 (ipykernel)",
   "language": "python",
   "name": "python3"
  },
  "language_info": {
   "codemirror_mode": {
    "name": "ipython",
    "version": 3
   },
   "file_extension": ".py",
   "mimetype": "text/x-python",
   "name": "python",
   "nbconvert_exporter": "python",
   "pygments_lexer": "ipython3",
   "version": "3.10.9"
  }
 },
 "nbformat": 4,
 "nbformat_minor": 5
}
